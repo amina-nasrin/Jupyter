import pandas as pd

headers=['vmid','subscriptionid','deploymentid','vmcreated', 'vmdeleted', 'maxcpu', 'avgcpu', 'p95maxcpu', 'vmcategory', 'allocatedcores', 'vmmemorybucket', 'instance', 'vendor', 'processor', 'frequency', 'lifetime', 'n_maxcpu', 'n_avg', 'n_p95', 'enrz_max', 'enrz_avg', 'enrz_p95', 'downgradedcore', 'n_downgraded_avg', 'downgraded_poweravg', 'downgraded_enrz']
df = pd.read_csv('vmtable.csv', names=headers)

df['lifetime'] = df['vmdeleted'] - df['vmcreated']

df.loc[df['allocatedcores'] == '4', ['instance', 'vendor', 'processor', 'frequency']] = ['M128ms v2', 1, 4, 2.7]#128
df.loc[df['allocatedcores'] == '2', ['instance', 'vendor', 'processor', 'frequency']] = ['M128ms v2', 1, 4, 2.7]#128
df.loc[df['allocatedcores'] == '8', ['instance', 'vendor', 'processor', 'frequency']] = ['DC8 v2', 1, 6, 3.7]#8
df.loc[df['allocatedcores'] == '12', ['instance', 'vendor', 'processor', 'frequency']] = ['M32ms v2', 1, 4, 2.7]#28
df.loc[df['allocatedcores'] == '24', ['instance', 'vendor', 'processor', 'frequency']] = ['M32ms v2', 1, 4, 2.7]#28
df.loc[df['allocatedcores'] == '30', ['instance', 'vendor', 'processor', 'frequency']] = ['M64s v2', 1, 4, 2.7]#64

df['allocatedcores'] = pd.to_numeric(df['allocatedcores'], errors='coerce')
#kl = df.loc[df['allocatedcores'] == 2]
print(df.drop(columns=['vmid','subscriptionid','deploymentid','vmcreated', 'vmdeleted', 'vmcategory', 'vmmemorybucket']))

df.loc[df['allocatedcores'] == 4, 'n_maxcpu'] = df['maxcpu'] * df['allocatedcores']/128
df.loc[df['allocatedcores'] == 2, 'n_maxcpu'] = df['maxcpu'] * df['allocatedcores']/128
df.loc[df['allocatedcores'] == 8, 'n_maxcpu'] = df['maxcpu']
df.loc[df['allocatedcores'] == 12, 'n_maxcpu'] = df['maxcpu'] * df['allocatedcores']/28
df.loc[df['allocatedcores'] == 24, 'n_maxcpu'] = df['maxcpu'] * df['allocatedcores']/28
df.loc[df['allocatedcores'] == 30, 'n_maxcpu'] = df['maxcpu'] * df['allocatedcores']/64

df.loc[df['allocatedcores'] == 2, 'n_avg'] = df['avgcpu'] * df['allocatedcores']/128
df.loc[df['allocatedcores'] == 4, 'n_avg'] = df['avgcpu'] * df['allocatedcores']/128
df.loc[df['allocatedcores'] == 8, 'n_avg'] = df['avgcpu']
df.loc[df['allocatedcores'] == 12, 'n_avg'] = df['avgcpu'] * df['allocatedcores']/28
df.loc[df['allocatedcores'] == 24, 'n_avg'] = df['avgcpu'] * df['allocatedcores']/28
df.loc[df['allocatedcores'] == 30, 'n_avg'] = df['avgcpu'] * df['allocatedcores']/64

df.loc[df['allocatedcores'] == 2, 'n_p95'] = df['p95maxcpu'] * df['allocatedcores']/128
df.loc[df['allocatedcores'] == 4, 'n_p95'] = df['p95maxcpu'] * df['allocatedcores']/128
df.loc[df['allocatedcores'] == 8, 'n_p95'] = df['p95maxcpu']
df.loc[df['allocatedcores'] == 12, 'n_p95'] = df['p95maxcpu'] * df['allocatedcores']/28
df.loc[df['allocatedcores'] == 24, 'n_p95'] = df['p95maxcpu'] * df['allocatedcores']/28
df.loc[df['allocatedcores'] == 30, 'n_p95'] = df['p95maxcpu'] * df['allocatedcores']/64

print(df.drop(columns=['vmid', 'vmcreated', 'vmdeleted', 'maxcpu', 'p95maxcpu', 'allocatedcores', 'lifetime', 'downgradedcore', 'n_maxcpu', 'enrz_avg', 'enrz_p95', 'subscriptionid','deploymentid', 'frequency', 'vmmemorybucket',	'vmcategory', 'instance', 'processor', 'downgraded_enrz', 'vendor'	,'n_p95',	'enrz_max']))

import pickle
model = pickle.load(open("trained_model.pickle", "rb"))

x = (df[['vendor', 'processor', 'allocatedcores', 'frequency', 'n_maxcpu']])
x = x.fillna(0)

from sklearn.preprocessing import PolynomialFeatures
poly_features = PolynomialFeatures(degree=3, include_bias=False)
x = poly_features.fit_transform(x)
df['power_max'] = model.predict(x)

x_avg1 = (df[['vendor', 'processor', 'allocatedcores', 'frequency', 'n_avg']])
x_avg = x_avg1.fillna(0)

x_avg = poly_features.fit_transform(x_avg)
df['power_avg'] = model.predict(x_avg)

x_p95 = (df[['vendor', 'processor', 'allocatedcores', 'frequency', 'n_p95']])
x_p95 = x_p95.fillna(1)

x_p95 = poly_features.fit_transform(x_p95)
df['power_p95'] = model.predict(x_p95)

df['enrz_max'] = df['power_max']*df['lifetime']
df['enrz_p95'] = df['power_p95']*df['lifetime']
df['enrz_avg'] = df['power_avg']*df['lifetime']

k = df.loc[(df['avgcpu']<5)]
kD = k.loc[(k['maxcpu']>=5) & (k['maxcpu']<25)]
kD24 = kD.loc[(kD['allocatedcores'] == 24)]
kD8 = kD.loc[(kD['allocatedcores'] == 8)]
kD4 = kD.loc[(kD['allocatedcores'] == 4)]

kD24['downgradedcore_12'] = 8
kD8['downgradedcore_8'] = 4
kD4['downgradedcore_4'] = 2

kD24['n_downgradedcore_12_avg'] = kD24['avgcpu']*kD24['allocatedcores']/kD24['downgradedcore_12']
kD8['n_downgradedcore_8_avg'] = kD8['avgcpu']*kD8['allocatedcores']/kD8['downgradedcore_8']
kD4['n_downgradedcore_4_avg'] = kD4['avgcpu']*kD4['allocatedcores']/kD4['downgradedcore_4']

#print((kD24['power_avg']*kD24['lifetime']).sum()/1000)
kD24.drop(columns=['vmid', 'vmcreated','n_downgraded_avg', 'vmdeleted', 'maxcpu', 'p95maxcpu', 'allocatedcores', 'power_p95', 'lifetime', 'n_maxcpu', 'enrz_avg', 'enrz_p95', 'subscriptionid','deploymentid', 'frequency', 'vmmemorybucket',	'vmcategory', 'instance', 'processor', 'downgraded_enrz', 'power_max', 'vendor'	,'n_p95',	'enrz_max'])

kD24[['ins_core']] = 68#kC24[['downgradedcore_12']]
downgraded_x_avg1 = (kD24[['vendor', 'processor', 'ins_core', 'frequency', 'n_downgradedcore_12_avg']])
downgraded_x_avg = downgraded_x_avg1.fillna(0)

downgraded_x_avg = poly_features.fit_transform(downgraded_x_avg)
kD24['downgraded_poweravg'] = model.predict(downgraded_x_avg)

print((kD24['downgraded_poweravg']*kD24['lifetime']).sum()/1000)
print((kD24['power_avg']*kD24['lifetime']).sum()/1000)
print(downgraded_x_avg1)
print(kD24.drop(columns=['vmid', 'vmcreated', 'downgradedcore','n_downgraded_avg', 'avgcpu', 'vmdeleted', 'maxcpu', 'p95maxcpu', 'allocatedcores', 'power_p95', 'lifetime', 'n_maxcpu', 'enrz_avg', 'enrz_p95', 'subscriptionid','deploymentid', 'frequency', 'vmmemorybucket',	'vmcategory', 'instance', 'processor', 'downgraded_enrz', 'power_max', 'vendor'	,'n_p95',	'enrz_max']))


k = df.loc[(df['avgcpu']<5)]
k = k.loc[(df['maxcpu']>=5) & (df['maxcpu']<25) &(df['allocatedcores'] == 24)]

k['downgradedcore'] = 8
k['n_downgraded_avg'] = k['downgradedcore'] * k['avgcpu']/28

kx = x_avg1#(k[['vendor', 'processor', 'allocatedcores', 'frequency', 'n_downgraded_avg']])

l = df.loc[(df['allocatedcores'] == 24) & (df['avgcpu'] <5) & (df['maxcpu'] <75) & (df['maxcpu'] >=50)]
kx = kx.fillna(1)
#print(kx)
kx = poly_features.fit_transform(kx)

k['downgraded_poweravg'] = model.predict(kx)
print(k.drop(columns=['vmid', 'vmcreated', 'vmdeleted', 'maxcpu', 'p95maxcpu', 'allocatedcores', 'power_p95', 'lifetime', 'downgradedcore','n_maxcpu', 'enrz_avg', 'enrz_p95', 'subscriptionid','deploymentid', 'frequency', 'vmmemorybucket',	'vmcategory', 'instance', 'processor', 'downgraded_enrz', 'power_max', 'vendor'	,'n_p95',	'enrz_max']))
'''k['downgraded_enrz'] = k['downgraded_poweravg']*k ['lifetime']
#k.loc[(k['maxcpu']>=50) & (k['maxcpu']<75) & (k['allocatedcores']== 24), 'downgradedcore'] = 18# &(df['maxcpu']<5) ]#& (df['allocatedcores']<20)]
#k.loc[(k['maxcpu']>=50) & (k['maxcpu']<75) & (k['allocatedcores'] == 8), 'downgradedcore'] = 6
#k.loc[(k['maxcpu']>=50) & (k['maxcpu']<75) & (k['allocatedcores'] == 4), 'downgradedcore'] = 3
#kk = df.loc[~df.index.isin(k.index)]
total_power_avg = k['downgraded_poweravg'].sum()
total_enrz_avg = k['downgraded_enrz'].sum()
print(total_power_avg/1000, 'KWatt')
print(total_enrz_avg/1000, 'KJ')'''
#k.to_csv('power_util_below2.csv')
#k.drop(columns=['vmid','subscriptionid','deploymentid', 'frequency', 'vmmemorybucket',	'vmcategory', 'instance', 'processor', 'downgraded_enrz', 'power_max', 'vendor'	,'n_p95',	'enrz_max'])
#k['downgraded_poweravg']

#downgarded all curve plot
import matplotlib.pyplot as plt
import numpy as np

groups = ['D24↘D12 ', 'D8↘D4', 'D4↘D2', 'E24↘E12', 'E8↘E4', 'E4↘E2', 'F24↘F12', 'F8↘F4', 'F4↘F2']
trace_power = [5645785, 17835415, 585160239, 3783104, 4558912, 106235185, 1186924, 1470702, 114235724]
downgraded_power = [ 4753525.18, 13099387.78, 363973691.9, 2454618.517, 2801521.603, 61026104.51, 734339.5415, 601293.2762, 101184002.5]
downgraded_power= [ 1320.423661,3638.718829,101103.8033,681.8384769,778.2004454,16951.6957,203.983206,167.0259101,28106.66737]
trace_power = np.asarray(trace_power)/3600
percentage_reduction = [(tp-dp)/tp*100 for tp, dp in zip(trace_power, downgraded_power)]

x = np.arange(len(groups))
width = 0.4

fig, ax1 = plt.subplots(figsize=(14, 9))
bars1 = ax1.bar(x - width/2, trace_power, width, label='Trace Energy')
bars2 = ax1.bar(x + width/2, downgraded_power, width, label='Downgraded Energy', color='#6f9a5c')

ax1.set_xlabel('Group with Cores', fontsize='26')
ax1.set_ylabel('Energy (KWHour)', fontsize='26')
ax1.set_title('Effectiveness of Downgrading on Energy Consumption', fontsize='26')
ax1.set_xticks(x)
ax1.set_xticklabels(groups, rotation=45, fontsize='26')
ax1.tick_params(axis='y', labelsize=26)
ax1.legend( fontsize='24', bbox_to_anchor=(0,0,.77,1))

ax2 = ax1.twinx()
ax2.plot(x, percentage_reduction, marker='o', color='salmon', linestyle='--', label='Energy Reduction %', markersize=10)
ax2.set_ylabel('Energy Reduction (%)', fontsize='26')
ax2.tick_params(axis='y', labelsize=26)
ax2.legend( fontsize='24', bbox_to_anchor=(0,0,.83,.50))

for i, v in enumerate(percentage_reduction):
    ax2.text(i, v + 1, f"{v:.2f}%", color='red', ha='center', fontsize=16)

fig.tight_layout()

plt.grid(True)
plt.show()

#downgraded low 5 plot
import matplotlib.pyplot as plt
import numpy as np

groups = ['D24↘D12 ', 'E24↘E12', 'E8↘E4', 'F24↘F12', 'F8↘F4']
'''trace_power = [5645785, 17835415, 585160239, 3783104, 4558912, 106235185, 1186924, 1470702, 114235724]
downgraded_power = [ 4753525.18, 13099387.78, 363973691.9, 2454618.517, 2801521.603, 61026104.51, 734339.5415, 601293.2762, 101184002.5]
downgraded_power= [ 1320.423661,3638.718829,101103.8033,681.8384769,778.2004454,16951.6957,203.983206,167.0259101,28106.66737]
'''
trace_power = [5645785, 3783104, 4558912, 1186924, 1470702]
downgraded_power = [ 4753525.18, 2454618.517, 2801521.603, 734339.5415, 601293.2762]
downgraded_power= [ 1320.423661,681.8384769,778.2004454,203.983206,167.0259101]

trace_power = np.asarray(trace_power)/3600
percentage_reduction = [(tp-dp)/tp*100 for tp, dp in zip(trace_power, downgraded_power)]

x = np.arange(len(groups))
width = 0.4

fig, ax1 = plt.subplots(figsize=(14, 10))
bars1 = ax1.bar(x - width/2, trace_power, width, label='Trace Energy', color='#123463')
bars2 = ax1.bar(x + width/2, downgraded_power, width, label='Downgraded Energy', color='#7EC850')

ax1.set_xlabel('Group with Cores', fontsize='26')
ax1.set_ylabel('Energy (KWHour)', fontsize='26')
ax1.set_title('Potential Energy Effectiveness Achievable by Downgrading Allocated Cores', fontsize='26')
ax1.set_xticks(x)
ax1.set_xticklabels(groups, rotation=0, fontsize='26')  # Changed rotation to 0
ax1.tick_params(axis='y', labelsize=26)
ax1.legend(fontsize='24', bbox_to_anchor=(0, 0, .77, 1))

ax2 = ax1.twinx()
ax2.plot(x, percentage_reduction, marker='o', color='salmon', linestyle='--', label='Energy Reduction %', markersize=10)
#ax2.set_ylabel('Energy Reduction (%)', fontsize='26')
ax2.tick_params(axis='y', labelsize=26)

# Disable the right side y-axis scale
ax2.yaxis.set_ticks([])  # Remove ticks
ax2.yaxis.set_ticklabels([])  # Remove tick labels

ax2.legend(fontsize='24', bbox_to_anchor=(0, 0, 1, .4))

for i, v in enumerate(percentage_reduction):
    ax2.text(i, v + 1, f"{v:.2f}%", color='red', ha='center', fontsize=22)

fig.tight_layout()

ax1.grid(True)
plt.show()


k5_less5 = df.loc[(df['avgcpu']<5) & (df['maxcpu']<5)]
k5_less5

import pandas as pd
import matplotlib.pyplot as plt

# Read the CSV file
df = pd.read_csv('AWS4.csv')

# Extract the data columns
time = df['time']
util = df['util']
nor_util = df['nor_util']
power = df['power']
tdp = df['TDP']
tdp_power = df['TDP_power']

# Create the plot
fig, ax1 = plt.subplots(figsize=(14, 8))

# Plot power, TDP, and TDP power on the primary y-axis
ax2 = ax1.twinx()
ax2.plot(time, util, label='CPU Utilization', color='orange')
ax2.set_ylabel('CPU Utilization %', fontsize=22)
ax2.tick_params(axis='y', labelsize=22)

ax1.plot(time, power, label="MPM's Power", color='green')
ax1.plot(time, tdp, label="TDP based Model's Power", color='salmon')
ax1.plot(time, tdp_power, label='TDP', color='skyblue')

ax1.set_xlabel('Time(second)', fontsize=22)
ax1.set_ylabel('Power(Watt)', fontsize=22)
ax1.tick_params(axis='y', labelsize=22)
ax1.tick_params(axis='x', labelsize=22)
ax1.set_title("MPM's Performance on the Chameleon Cloud compared to the TDP Model's Performance", fontsize=20)

# Create a secondary y-axis for utilization


# Combine legends from both axes
lines_1, labels_1 = ax1.get_legend_handles_labels()
lines_2, labels_2 = ax2.get_legend_handles_labels()
ax1.legend(lines_1 + lines_2, labels_1 + labels_2, bbox_to_anchor=(0,0,.9,.9), fontsize=22)

# Add grid and show the plot
plt.grid(True)
plt.show()

avg5 = df.loc[((df['avgcpu']<5))]
avg5

#donut plot 1st one
import matplotlib.pyplot as plt

labels = ['avgcpu>=95        ',
          '75<=avgcpu<95 ', 
          '50<=avgcpu<75 ', 
          '25<=avgcpu<50 ', '5<=avgcpu<25   ', 'avgcpu<5            ']
sizes = [30104686.65,15977845.31,76681358.95,89914024.98]
#sizes = [0.04, 1.60, 5.85, 14.80, 37.97, 39.75]
colors = ['#FFA500', '#9E7CD7', '#326872', '#7EC850', '#69C0FF', '#FA8072']
explode = [0.0005] * len(sizes) 

fig, ax = plt.subplots(figsize=(5,9))
ax.pie(sizes,  colors=colors, startangle=90, explode=explode, wedgeprops=dict(width=0.3, edgecolor='white'))
ax.axis('equal')  

plt.legend(labels=[f'{label}: {size}%' for label, size in zip(labels, sizes)], loc='lower center')

plt.show()
